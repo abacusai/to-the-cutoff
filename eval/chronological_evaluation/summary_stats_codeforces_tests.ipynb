{
 "cells": [
  {
   "cell_type": "code",
   "execution_count": null,
   "id": "387e0ad1",
   "metadata": {},
   "outputs": [],
   "source": [
    "import pandas as pd\n",
    "\n",
    "df = pd.read_csv('codeforces_summary_stats.csv')"
   ]
  },
  {
   "cell_type": "code",
   "execution_count": null,
   "id": "61555c8d",
   "metadata": {},
   "outputs": [],
   "source": [
    "len(df)"
   ]
  },
  {
   "cell_type": "code",
   "execution_count": null,
   "id": "19425ab6",
   "metadata": {},
   "outputs": [],
   "source": [
    "df['after'] = df['metadata.release_date_epoch_ms'] >= 1633089600"
   ]
  },
  {
   "cell_type": "code",
   "execution_count": null,
   "id": "aa54f964",
   "metadata": {},
   "outputs": [],
   "source": [
    "df_after = df[df['after']]"
   ]
  },
  {
   "cell_type": "code",
   "execution_count": null,
   "id": "abdd62cf",
   "metadata": {},
   "outputs": [],
   "source": [
    "df_before = df[~df['after']]"
   ]
  },
  {
   "cell_type": "code",
   "execution_count": null,
   "id": "90045556",
   "metadata": {},
   "outputs": [],
   "source": [
    "df_after.columns"
   ]
  },
  {
   "cell_type": "code",
   "execution_count": null,
   "id": "5e365c31",
   "metadata": {},
   "outputs": [],
   "source": [
    "pre_all_inputs_lengths_before = df_before['metrics.TestCaseCount.all_inputs_lengths']\n",
    "pre_public_lengths_before = df_before['metrics.TestCaseCount.public_lengths']\n",
    "pre_private_lengths_before = df_before['metrics.TestCaseCount.private_lengths']\n",
    "pre_all_inputs_lengths_after = df_after['metrics.TestCaseCount.all_inputs_lengths']\n",
    "pre_public_lengths_after = df_after['metrics.TestCaseCount.public_lengths']\n",
    "pre_private_lengths_after = df_after['metrics.TestCaseCount.private_lengths']"
   ]
  },
  {
   "cell_type": "code",
   "execution_count": null,
   "id": "47b32b80",
   "metadata": {},
   "outputs": [],
   "source": [
    "import numpy as np\n",
    "def parse(list_string):\n",
    "    l = list_string\n",
    "    l = l[1:-1]\n",
    "    if len(l) == 0:\n",
    "        return []\n",
    "    l = l.split(', ')\n",
    "    l = [int(a) for a in l]\n",
    "    return l\n",
    "\n",
    "def parse_build(series):\n",
    "    return np.array(sum([parse(a) for a in series], []))\n",
    "\n",
    "def parse_build_lengths(series):\n",
    "    return np.array([len(parse(a)) for a in series])\n",
    "\n",
    "all_inputs_lengths_before = parse_build(pre_all_inputs_lengths_before)\n",
    "public_lengths_before = parse_build(pre_public_lengths_before)\n",
    "private_lengths_before = parse_build(pre_private_lengths_before)\n",
    "all_inputs_lengths_after = parse_build(pre_all_inputs_lengths_after)\n",
    "public_lengths_after = parse_build(pre_public_lengths_after)\n",
    "private_lengths_after = parse_build(pre_private_lengths_after)\n",
    "\n",
    "all_inputs_num_before = parse_build_lengths(pre_all_inputs_lengths_before)\n",
    "public_num_before = parse_build_lengths(pre_public_lengths_before)\n",
    "private_num_before = parse_build_lengths(pre_private_lengths_before)\n",
    "all_inputs_num_after = parse_build_lengths(pre_all_inputs_lengths_after)\n",
    "public_num_after = parse_build_lengths(pre_public_lengths_after)\n",
    "private_num_after = parse_build_lengths(pre_private_lengths_after)"
   ]
  },
  {
   "cell_type": "code",
   "execution_count": null,
   "id": "4d996123",
   "metadata": {},
   "outputs": [],
   "source": [
    "def agg(seq):\n",
    "    return np.median(seq)\n",
    "\n",
    "print(f'all_inputs_lengths_before {agg(all_inputs_lengths_before):.2f}')\n",
    "print(f'public_lengths_before {agg(public_lengths_before):.2f} ')\n",
    "print(f'private_lengths_before {agg(private_lengths_before):.2f} ')\n",
    "print(f'all_inputs_lengths_after {agg(all_inputs_lengths_after):.2f} ')\n",
    "print(f'public_lengths_after {agg(public_lengths_after):.2f} ')\n",
    "print(f'private_lengths_after {agg(private_lengths_after):.2f} ')\n",
    "\n",
    "print(f'all_inputs_num_before {agg(all_inputs_num_before):.2f}')\n",
    "print(f'public_num_before {agg(public_num_before):.2f} ')\n",
    "print(f'private_num_before {agg(private_num_before):.2f} ')\n",
    "print(f'all_inputs_num_after {agg(all_inputs_num_after):.2f} ')\n",
    "print(f'public_num_after {agg(public_num_after):.2f} ')\n",
    "print(f'private_num_after {agg(private_num_after):.2f} ')\n"
   ]
  }
 ],
 "metadata": {
  "kernelspec": {
   "display_name": "Python 3 (ipykernel)",
   "language": "python",
   "name": "python3"
  },
  "language_info": {
   "codemirror_mode": {
    "name": "ipython",
    "version": 3
   },
   "file_extension": ".py",
   "mimetype": "text/x-python",
   "name": "python",
   "nbconvert_exporter": "python",
   "pygments_lexer": "ipython3",
   "version": "3.11.3"
  }
 },
 "nbformat": 4,
 "nbformat_minor": 5
}
